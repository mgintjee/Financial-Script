{
 "cells": [
  {
   "cell_type": "code",
   "execution_count": null,
   "metadata": {},
   "outputs": [],
   "source": [
    "# Add the libraies path to python\n",
    "import sys\n",
    "import os\n",
    "current_path = os.getcwd()\n",
    "libraries_module_dir = os.path.join( current_path, '..', 'libraries' )\n",
    "common_libraries_dir = os.path.join( current_path, '..', '..', 'common', 'libraries' )\n",
    "common_constants_dir = os.path.join( current_path, '..', '..', 'common', 'constants' )\n",
    "sys.path.append( common_libraries_dir )\n",
    "sys.path.append( common_constants_dir )\n",
    "sys.path.append( libraries_module_dir )"
   ]
  },
  {
   "cell_type": "code",
   "execution_count": null,
   "metadata": {},
   "outputs": [],
   "source": [
    "# Import all of the Utils \n",
    "import expense_report_builder\n",
    "import rounded_savings_plot"
   ]
  },
  {
   "cell_type": "code",
   "execution_count": null,
   "metadata": {},
   "outputs": [],
   "source": [
    "# Collect the Dict(Key: year_string, Value: Dict(Key: month_string, Set(expense_report))) \n",
    "expense_report_dict = expense_report_builder.build_expense_report_dict()"
   ]
  },
  {
   "cell_type": "code",
   "execution_count": null,
   "metadata": {},
   "outputs": [],
   "source": [
    "rounded_savings_plot.plot(expense_report_dict)"
   ]
  },
  {
   "cell_type": "code",
   "execution_count": null,
   "metadata": {},
   "outputs": [],
   "source": []
  }
 ],
 "metadata": {
  "kernelspec": {
   "display_name": "Python 3",
   "language": "python",
   "name": "python3"
  },
  "language_info": {
   "codemirror_mode": {
    "name": "ipython",
    "version": 3
   },
   "file_extension": ".py",
   "mimetype": "text/x-python",
   "name": "python",
   "nbconvert_exporter": "python",
   "pygments_lexer": "ipython3",
   "version": "3.9.0"
  }
 },
 "nbformat": 4,
 "nbformat_minor": 4
}
