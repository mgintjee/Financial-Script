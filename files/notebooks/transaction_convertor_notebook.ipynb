{
 "cells": [
  {
   "cell_type": "code",
   "execution_count": null,
   "metadata": {},
   "outputs": [],
   "source": [
    "# Add the libraies path to python\n",
    "import sys\n",
    "import os\n",
    "current_path = os.getcwd()\n",
    "libraries_module_dir = os.path.join( \n",
    "    current_path, '..', 'libraries' )\n",
    "common_libraries_dir = os.path.join( current_path, '..', '..', 'common', 'libraries' )\n",
    "common_constants_dir = os.path.join( current_path, '..', '..', 'common', 'constants' )\n",
    "sys.path.append( common_libraries_dir )\n",
    "sys.path.append( common_constants_dir )\n",
    "sys.path.append( libraries_module_dir )"
   ]
  },
  {
   "cell_type": "code",
   "execution_count": null,
   "metadata": {},
   "outputs": [],
   "source": [
    "# Import all of the Utils \n",
    "import transaction_convertor"
   ]
  },
  {
   "cell_type": "code",
   "execution_count": null,
   "metadata": {},
   "outputs": [],
   "source": [
    "transaction_convertor.convert()"
   ]
  },
  {
   "cell_type": "code",
   "execution_count": null,
   "metadata": {},
   "outputs": [],
   "source": []
  }
 ],
 "metadata": {
  "kernelspec": {
   "display_name": "Python 3",
   "language": "python",
   "name": "python3"
  },
  "language_info": {
   "codemirror_mode": {
    "name": "ipython",
    "version": 3
   },
   "file_extension": ".py",
   "mimetype": "text/x-python",
   "name": "python",
   "nbconvert_exporter": "python",
   "pygments_lexer": "ipython3",
   "version": "3.9.0"
  }
 },
 "nbformat": 4,
 "nbformat_minor": 4
}
