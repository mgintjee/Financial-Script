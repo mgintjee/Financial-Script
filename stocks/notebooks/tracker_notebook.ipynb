{
 "cells": [
  {
   "cell_type": "code",
   "execution_count": null,
   "metadata": {},
   "outputs": [],
   "source": [
    "# Add the libraies path to python\n",
    "import sys\n",
    "import os\n",
    "current_path = os.getcwd()\n",
    "libraries_module_dir = os.path.join( current_path, '..', 'libraries' )\n",
    "common_libraries_dir = os.path.join( current_path, '..', '..', 'common', 'libraries' )\n",
    "common_constants_dir = os.path.join( current_path, '..', '..', 'common', 'constants' )\n",
    "sys.path.append( common_libraries_dir )\n",
    "sys.path.append( common_constants_dir )\n",
    "sys.path.append( libraries_module_dir )"
   ]
  },
  {
   "cell_type": "code",
   "execution_count": null,
   "metadata": {},
   "outputs": [],
   "source": [
    "# Imports\n",
    "import stocks_tracker\n",
    "import stocks_tracker_constants"
   ]
  },
  {
   "cell_type": "code",
   "execution_count": null,
   "metadata": {},
   "outputs": [],
   "source": [
    "# Build the trackers\n",
    "nfdi_tracker = stocks_tracker.stocks_tracker(stocks_tracker_constants.NAVY_FEDERAL_DIGITAL_INVESTOR)\n",
    "ally_tracker = stocks_tracker.stocks_tracker(stocks_tracker_constants.ALLY_ROBO_INVESTOR)"
   ]
  },
  {
   "cell_type": "code",
   "execution_count": null,
   "metadata": {},
   "outputs": [],
   "source": [
    "# Initialize the nfdi tracker\n",
    "nfdi_tracker.initialize()"
   ]
  },
  {
   "cell_type": "code",
   "execution_count": null,
   "metadata": {},
   "outputs": [],
   "source": [
    "# Initialize the ally tracker\n",
    "ally_tracker.initialize()"
   ]
  },
  {
   "cell_type": "code",
   "execution_count": null,
   "metadata": {},
   "outputs": [],
   "source": [
    "# Display the history of the nfdi tracker\n",
    "nfdi_tracker.display()"
   ]
  },
  {
   "cell_type": "code",
   "execution_count": null,
   "metadata": {},
   "outputs": [],
   "source": [
    "# Display the history of the ally tracker\n",
    "ally_tracker.display()"
   ]
  },
  {
   "cell_type": "code",
   "execution_count": null,
   "metadata": {},
   "outputs": [],
   "source": []
  }
 ],
 "metadata": {
  "kernelspec": {
   "display_name": "Python 3",
   "language": "python",
   "name": "python3"
  },
  "language_info": {
   "codemirror_mode": {
    "name": "ipython",
    "version": 3
   },
   "file_extension": ".py",
   "mimetype": "text/x-python",
   "name": "python",
   "nbconvert_exporter": "python",
   "pygments_lexer": "ipython3",
   "version": "3.9.0"
  }
 },
 "nbformat": 4,
 "nbformat_minor": 4
}
