{
 "cells": [
  {
   "cell_type": "code",
   "execution_count": 1,
   "metadata": {},
   "outputs": [],
   "source": [
    "# Imports\n",
    "import stocks_tracker\n",
    "import stocks_tracker_constants"
   ]
  },
  {
   "cell_type": "code",
   "execution_count": 2,
   "metadata": {},
   "outputs": [],
   "source": [
    "# Build the trackers\n",
    "nfdi_tracker = stocks_tracker.stocks_tracker(stocks_tracker_constants.NAVY_FEDERAL_DIGITAL_INVESTOR)\n",
    "ally_tracker = stocks_tracker.stocks_tracker(stocks_tracker_constants.ALLY_ROBO_INVESTOR)"
   ]
  },
  {
   "cell_type": "code",
   "execution_count": 3,
   "metadata": {},
   "outputs": [
    {
     "name": "stdout",
     "output_type": "stream",
     "text": [
      "Initializing stock_tracker: nfdi\n",
      "Processing file: <_io.TextIOWrapper name='stockHistoryFiles/nfdi/2022-04.history.tsv' mode='r' encoding='cp1252'>\n",
      "Processing file: <_io.TextIOWrapper name='stockHistoryFiles/nfdi/2022-05.history.tsv' mode='r' encoding='cp1252'>\n",
      "Processing file: <_io.TextIOWrapper name='stockHistoryFiles/nfdi/2022-06.history.tsv' mode='r' encoding='cp1252'>\n",
      "Processing file: <_io.TextIOWrapper name='stockHistoryFiles/nfdi/2022-07.history.tsv' mode='r' encoding='cp1252'>\n",
      "Initialized stock_tracker: nfdi for 4 months\n"
     ]
    }
   ],
   "source": [
    "# Initialize the nfdi tracker\n",
    "nfdi_tracker.initialize()"
   ]
  },
  {
   "cell_type": "code",
   "execution_count": 4,
   "metadata": {},
   "outputs": [
    {
     "name": "stdout",
     "output_type": "stream",
     "text": [
      "Initializing stock_tracker: ally\n",
      "Processing file: <_io.TextIOWrapper name='stockHistoryFiles/ally/2021-10.history.tsv' mode='r' encoding='cp1252'>\n",
      "Processing file: <_io.TextIOWrapper name='stockHistoryFiles/ally/2021-11.history.tsv' mode='r' encoding='cp1252'>\n",
      "Processing file: <_io.TextIOWrapper name='stockHistoryFiles/ally/2021-12.history.tsv' mode='r' encoding='cp1252'>\n",
      "Processing file: <_io.TextIOWrapper name='stockHistoryFiles/ally/2022-01.history.tsv' mode='r' encoding='cp1252'>\n",
      "Processing file: <_io.TextIOWrapper name='stockHistoryFiles/ally/2022-02.history.tsv' mode='r' encoding='cp1252'>\n",
      "Processing file: <_io.TextIOWrapper name='stockHistoryFiles/ally/2022-03.history.tsv' mode='r' encoding='cp1252'>\n",
      "Processing file: <_io.TextIOWrapper name='stockHistoryFiles/ally/2022-04.history.tsv' mode='r' encoding='cp1252'>\n",
      "Processing file: <_io.TextIOWrapper name='stockHistoryFiles/ally/2022-05.history.tsv' mode='r' encoding='cp1252'>\n",
      "Processing file: <_io.TextIOWrapper name='stockHistoryFiles/ally/2022-06.history.tsv' mode='r' encoding='cp1252'>\n",
      "Processing file: <_io.TextIOWrapper name='stockHistoryFiles/ally/2022-07.history.tsv' mode='r' encoding='cp1252'>\n",
      "Initialized stock_tracker: ally for 10 months\n"
     ]
    }
   ],
   "source": [
    "# Initialize the ally tracker\n",
    "ally_tracker.initialize()"
   ]
  },
  {
   "cell_type": "code",
   "execution_count": 5,
   "metadata": {},
   "outputs": [
    {
     "name": "stdout",
     "output_type": "stream",
     "text": [
      "Displaying stock info for nfdi\n",
      "Date:2022-04 | Initial:       0.0 | Deposits:    4150.0 | Withdrawals:       0.0 | Final:   3952.69 | ValueChange: -197.31\n",
      "Date:2022-05 | Initial:   3952.69 | Deposits:       0.0 | Withdrawals:       0.0 | Final:   3979.86 | ValueChange:   27.17\n",
      "Date:2022-06 | Initial:   3979.86 | Deposits:       0.0 | Withdrawals:    3000.0 | Final:    716.93 | ValueChange: -262.93\n",
      "Date:2022-07 | Initial:    716.93 | Deposits:       0.0 | Withdrawals:       0.0 | Final:    716.93 | ValueChange:     0.0\n",
      "Institution: nfdi | Overall return:  -433.07 for   4 months\n"
     ]
    }
   ],
   "source": [
    "# Display the history of the nfdi tracker\n",
    "nfdi_tracker.display()"
   ]
  },
  {
   "cell_type": "code",
   "execution_count": 6,
   "metadata": {},
   "outputs": [
    {
     "name": "stdout",
     "output_type": "stream",
     "text": [
      "Displaying stock info for ally\n",
      "Date:2021-10 | Initial:       0.0 | Deposits:   11000.0 | Withdrawals:       0.0 | Final:  11020.13 | ValueChange:   20.13\n",
      "Date:2021-11 | Initial:  11023.31 | Deposits:       0.0 | Withdrawals:    1000.0 | Final:  10005.35 | ValueChange:  -17.96\n",
      "Date:2021-12 | Initial:  10005.35 | Deposits:       0.0 | Withdrawals:       0.0 | Final:  10072.12 | ValueChange:   66.77\n",
      "Date:2022-01 | Initial:  10072.12 | Deposits:       0.0 | Withdrawals:       0.0 | Final:   9992.23 | ValueChange:  -79.89\n",
      "Date:2022-02 | Initial:   9992.23 | Deposits:       0.0 | Withdrawals:       0.0 | Final:   9975.28 | ValueChange:  -16.95\n",
      "Date:2022-03 | Initial:   9975.28 | Deposits:       0.0 | Withdrawals:       0.0 | Final:    9856.6 | ValueChange: -118.68\n",
      "Date:2022-04 | Initial:    9856.6 | Deposits:       0.0 | Withdrawals:    4000.0 | Final:   5680.92 | ValueChange: -175.68\n",
      "Date:2022-05 | Initial:   5680.92 | Deposits:       0.0 | Withdrawals:       0.0 | Final:   5719.99 | ValueChange:   39.07\n",
      "Date:2022-06 | Initial:   5719.99 | Deposits:       0.0 | Withdrawals:    5000.0 | Final:    536.62 | ValueChange: -183.37\n",
      "Date:2022-07 | Initial:    536.62 | Deposits:       0.0 | Withdrawals:       0.0 | Final:    536.62 | ValueChange:     0.0\n",
      "Institution: ally | Overall return:  -466.56 for  10 months\n"
     ]
    }
   ],
   "source": [
    "# Display the history of the ally tracker\n",
    "ally_tracker.display()"
   ]
  }
 ],
 "metadata": {
  "kernelspec": {
   "display_name": "Python 3",
   "language": "python",
   "name": "python3"
  },
  "language_info": {
   "codemirror_mode": {
    "name": "ipython",
    "version": 3
   },
   "file_extension": ".py",
   "mimetype": "text/x-python",
   "name": "python",
   "nbconvert_exporter": "python",
   "pygments_lexer": "ipython3",
   "version": "3.9.0"
  }
 },
 "nbformat": 4,
 "nbformat_minor": 4
}
